{
 "cells": [
  {
   "attachments": {},
   "cell_type": "markdown",
   "metadata": {},
   "source": [
    "Use this notebook to get the mean and standard deviation of for MOON"
   ]
  },
  {
   "cell_type": "code",
   "execution_count": 1,
   "metadata": {},
   "outputs": [],
   "source": [
    "import pandas as pd\n",
    "import numpy as np"
   ]
  },
  {
   "cell_type": "markdown",
   "metadata": {},
   "source": [
    "### Load and view the seed list"
   ]
  },
  {
   "cell_type": "code",
   "execution_count": 3,
   "metadata": {},
   "outputs": [
    {
     "name": "stdout",
     "output_type": "stream",
     "text": [
      "(42, 43, 44, 45, 46)\n"
     ]
    }
   ],
   "source": [
    "# import torch\n",
    "# dataset=\"cifar100\"\n",
    "# beta=0.05\n",
    "# seed=42\n",
    "# seed_list = torch.load(f\"./found_seeds/{dataset}-n10-beta{beta}-1st_seed{seed}/successful_seeds.pt\")\n",
    "# print(seed_list)"
   ]
  },
  {
   "cell_type": "code",
   "execution_count": null,
   "metadata": {},
   "outputs": [],
   "source": [
    "# # Load data from csv\n",
    "# df = pd.read_csv('./result/benchmark/records.csv')\n",
    "\n",
    "# # Calculate mean and standard deviation\n",
    "# mean_acc = np.mean(df['acc'])\n",
    "# std_acc = np.std(df['acc'])\n",
    "\n",
    "# mean_bal_acc = np.mean(df['bal_acc'])\n",
    "# std_bal_acc = np.std(df['bal_acc'])\n",
    "\n",
    "# mean_auc = np.mean(df['auc'])\n",
    "# std_auc = np.std(df['auc'])\n",
    "\n",
    "# # Print results\n",
    "# print(f'Mean acc: {mean_acc*100:.2f}%, std: {std_acc*100:.2f}%')\n",
    "# print(f'Mean bal accuracy: {mean_bal_acc*100:.2f}%, std: {std_bal_acc*100:.2f}%')\n",
    "# print(f'Mean auc: {mean_auc:.4f}, std: {std_auc:.4f}')"
   ]
  },
  {
   "cell_type": "code",
   "execution_count": null,
   "metadata": {},
   "outputs": [],
   "source": [
    "def stat_without_outlier(data):\n",
    "    \n",
    "    # Calculate Q1, Q3, and the IQR\n",
    "    q1 = np.percentile(data, 25)\n",
    "    q3 = np.percentile(data, 75)\n",
    "    iqr = q3 - q1\n",
    "\n",
    "    # Define the bounds for outliers\n",
    "    lower_bound = q1 - 1.5 * iqr\n",
    "    upper_bound = q3 + 1.5 * iqr\n",
    "\n",
    "    # Identify the outliers\n",
    "    outliers = ((data < lower_bound) | (data > upper_bound))\n",
    "\n",
    "    # Create a new array excluding the outliers\n",
    "    filtered_data = data[~outliers]\n",
    "\n",
    "    # compute the mean and standard deviation of the remaining values in the array\n",
    "    mean_val = np.mean(filtered_data)\n",
    "    std_val = np.std(filtered_data)\n",
    "\n",
    "    # print the results\n",
    "    print(f\"Results records:\\n {data*100}\")\n",
    "    print(f\"Outliers: {np.setdiff1d(data, filtered_data)*100}\")\n",
    "    print(f\"Mean: {mean_val*100:.2f}\")\n",
    "    print(f\"Standard Deviation: {std_val*100:.2f}\")\n",
    "    return"
   ]
  },
  {
   "cell_type": "code",
   "execution_count": null,
   "metadata": {},
   "outputs": [],
   "source": [
    "import os\n",
    "\n",
    "def show_results(path, file, algo, dataset, beta, ep, lr, round, mu):\n",
    "    df = pd.read_csv(os.path.join(path, file))\n",
    "    print(f'{dataset}-convnet-{algo}-N10-beta{beta}-ep{ep}-lr{lr}-round{round}: ')\n",
    "    stat_without_outlier(data=df[\"accuracy\"])\n",
    "    # Calculate mean and standard deviation\n",
    "    # mean_acc = np.mean(df['acc'])\n",
    "    # std_acc = np.std(df['acc'])\n",
    "\n",
    "    # mean_bal_acc = np.mean(df['bal_acc'])\n",
    "    # std_bal_acc = np.std(df['bal_acc'])\n",
    "\n",
    "    # mean_auc = np.mean(df['auc'])\n",
    "    # std_auc = np.std(df['auc'])\n",
    "\n",
    "    # Print results for MOON\n",
    "    # print(f'{dataset}-convnet-{algo}-N10-beta{beta}-ep{ep}-lr{lr}-round{round}: Mean acc: {mean_acc*100:.2f}%, std: {std_acc*100:.2f}%')\n"
   ]
  },
  {
   "cell_type": "code",
   "execution_count": null,
   "metadata": {},
   "outputs": [],
   "source": [
    "\n",
    "# Load data from csv\n",
    "dataset = \"cifar10\"\n",
    "round=10\n",
    "beta_list = [0.02, 0.05, 0.1, 0.2]\n",
    "algo_list = [\"moon\"]\n",
    "ep_list = [10]\n",
    "lr_list = [0.01]\n",
    "# mu_list = [0.1, 0.01, 0.001]\n",
    "file = 'records.csv'\n",
    "for algo in algo_list:\n",
    "    for beta in beta_list:\n",
    "        for lr in lr_list:\n",
    "            for ep in ep_list:\n",
    "                path = f'result-bench/{dataset}-convnet-{algo}-N10-beta{beta}-ep{ep}-lr{lr}-round{round}/'\n",
    "                show_results(path, file, algo, dataset, beta, ep, lr, round, mu=None)\n"
   ]
  }
 ],
 "metadata": {
  "kernelspec": {
   "display_name": "affl2-torch20",
   "language": "python",
   "name": "python3"
  },
  "language_info": {
   "codemirror_mode": {
    "name": "ipython",
    "version": 3
   },
   "file_extension": ".py",
   "mimetype": "text/x-python",
   "name": "python",
   "nbconvert_exporter": "python",
   "pygments_lexer": "ipython3",
   "version": "3.11.3"
  },
  "orig_nbformat": 4
 },
 "nbformat": 4,
 "nbformat_minor": 2
}
